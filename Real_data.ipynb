{
 "cells": [
  {
   "cell_type": "markdown",
   "metadata": {},
   "source": [
    "# 2. Inference on real data\n",
    "\n",
    "Author: [Marc Lelarge](https://www.di.ens.fr/~lelarge/)\n",
    "\n",
    "Date: 04/05\n",
    "\n",
    "In this notebook, we test our approach on real data taken from https://ourworldindata.org/coronavirus-source-data"
   ]
  },
  {
   "cell_type": "code",
   "execution_count": 1,
   "metadata": {},
   "outputs": [],
   "source": [
    "%load_ext autoreload\n",
    "%autoreload 2\n",
    "%matplotlib inline\n",
    "import matplotlib.pyplot as plt\n",
    "import torch\n",
    "import torch.nn as nn\n",
    "import torch.optim as optim\n",
    "import pandas as pd\n",
    "import numpy as np"
   ]
  },
  {
   "cell_type": "markdown",
   "metadata": {},
   "source": [
    "## a. Loading the data"
   ]
  },
  {
   "cell_type": "code",
   "execution_count": 2,
   "metadata": {},
   "outputs": [],
   "source": [
    "df = pd.read_csv('https://covid.ourworldindata.org/data/ecdc/full_data.csv', \n",
    "                     index_col='date', parse_dates=True)\n",
    "df = df.rename(columns={'location': 'country', 'total_cases': 'confirmed', 'total_deaths': 'deaths'}) "
   ]
  },
  {
   "cell_type": "code",
   "execution_count": 3,
   "metadata": {},
   "outputs": [
    {
     "data": {
      "text/html": [
       "<div>\n",
       "<style scoped>\n",
       "    .dataframe tbody tr th:only-of-type {\n",
       "        vertical-align: middle;\n",
       "    }\n",
       "\n",
       "    .dataframe tbody tr th {\n",
       "        vertical-align: top;\n",
       "    }\n",
       "\n",
       "    .dataframe thead th {\n",
       "        text-align: right;\n",
       "    }\n",
       "</style>\n",
       "<table border=\"1\" class=\"dataframe\">\n",
       "  <thead>\n",
       "    <tr style=\"text-align: right;\">\n",
       "      <th></th>\n",
       "      <th>country</th>\n",
       "      <th>new_cases</th>\n",
       "      <th>new_deaths</th>\n",
       "      <th>confirmed</th>\n",
       "      <th>deaths</th>\n",
       "    </tr>\n",
       "    <tr>\n",
       "      <th>date</th>\n",
       "      <th></th>\n",
       "      <th></th>\n",
       "      <th></th>\n",
       "      <th></th>\n",
       "      <th></th>\n",
       "    </tr>\n",
       "  </thead>\n",
       "  <tbody>\n",
       "    <tr>\n",
       "      <th>2019-12-31</th>\n",
       "      <td>Afghanistan</td>\n",
       "      <td>0</td>\n",
       "      <td>0</td>\n",
       "      <td>0</td>\n",
       "      <td>0</td>\n",
       "    </tr>\n",
       "    <tr>\n",
       "      <th>2020-01-01</th>\n",
       "      <td>Afghanistan</td>\n",
       "      <td>0</td>\n",
       "      <td>0</td>\n",
       "      <td>0</td>\n",
       "      <td>0</td>\n",
       "    </tr>\n",
       "    <tr>\n",
       "      <th>2020-01-02</th>\n",
       "      <td>Afghanistan</td>\n",
       "      <td>0</td>\n",
       "      <td>0</td>\n",
       "      <td>0</td>\n",
       "      <td>0</td>\n",
       "    </tr>\n",
       "    <tr>\n",
       "      <th>2020-01-03</th>\n",
       "      <td>Afghanistan</td>\n",
       "      <td>0</td>\n",
       "      <td>0</td>\n",
       "      <td>0</td>\n",
       "      <td>0</td>\n",
       "    </tr>\n",
       "    <tr>\n",
       "      <th>2020-01-04</th>\n",
       "      <td>Afghanistan</td>\n",
       "      <td>0</td>\n",
       "      <td>0</td>\n",
       "      <td>0</td>\n",
       "      <td>0</td>\n",
       "    </tr>\n",
       "  </tbody>\n",
       "</table>\n",
       "</div>"
      ],
      "text/plain": [
       "                country  new_cases  new_deaths  confirmed  deaths\n",
       "date                                                             \n",
       "2019-12-31  Afghanistan          0           0          0       0\n",
       "2020-01-01  Afghanistan          0           0          0       0\n",
       "2020-01-02  Afghanistan          0           0          0       0\n",
       "2020-01-03  Afghanistan          0           0          0       0\n",
       "2020-01-04  Afghanistan          0           0          0       0"
      ]
     },
     "execution_count": 3,
     "metadata": {},
     "output_type": "execute_result"
    }
   ],
   "source": [
    "df.head()"
   ]
  },
  {
   "cell_type": "code",
   "execution_count": 4,
   "metadata": {},
   "outputs": [],
   "source": [
    "pop_file = 'https://github.com/datasets/population/raw/master/data/population.csv'\n",
    "populations_all = pd.read_csv(pop_file)\n",
    "populations_all = populations_all.sort_values(['Country Name', 'Year']).groupby(['Country Name']).last()\n",
    "populations_all.loc['Egypt'] = populations_all.loc['Egypt, Arab Rep.'].Value\n",
    "populations_all.loc['Iran'] = populations_all.loc['Iran, Islamic Rep.'].Value\n",
    "populations_all.loc['South Korea'] = populations_all.loc['Korea, Rep.'].Value\n",
    "populations_all.loc['Hong Kong'] = populations_all.loc['Hong Kong SAR, China'].Value\n",
    "populations_all.loc['Czechia'] = populations_all.loc['Czech Republic'].Value"
   ]
  },
  {
   "cell_type": "markdown",
   "metadata": {},
   "source": [
    "## b. Case of France"
   ]
  },
  {
   "cell_type": "code",
   "execution_count": 5,
   "metadata": {},
   "outputs": [],
   "source": [
    "df_france = df[df.country == 'France']"
   ]
  },
  {
   "cell_type": "code",
   "execution_count": 6,
   "metadata": {},
   "outputs": [],
   "source": [
    "from model_epidemio import covid_data\n",
    "from model_epidemio import ihd_fit"
   ]
  },
  {
   "cell_type": "markdown",
   "metadata": {},
   "source": [
    "Our model is invariant by scaling (i.e. we can multiply all fractions and get the same equations). To avoid small numbers, we scale all fractions by a factor (here 100)."
   ]
  },
  {
   "cell_type": "code",
   "execution_count": 7,
   "metadata": {},
   "outputs": [],
   "source": [
    "scale = 100\n",
    "fr_pop = populations_all.loc['France']['Value']\n",
    "death, new_cases = covid_data.create_death_cases(df_france,scale,fr_pop)"
   ]
  },
  {
   "cell_type": "code",
   "execution_count": 12,
   "metadata": {},
   "outputs": [],
   "source": [
    "delta = 10\n",
    "init = np.nonzero(new_cases)[0][0]+delta\n",
    "t, data_death, data_cases = covid_data.make_data(death,new_cases,init,delta)"
   ]
  },
  {
   "cell_type": "code",
   "execution_count": 13,
   "metadata": {},
   "outputs": [],
   "source": [
    "cases_init = data_cases[0].item()\n",
    "parms_fit = torch.tensor([0.3,0.05,0.05,0.3])\n",
    "ihd = ihd_fit.IHD_fit(parms_fit)\n",
    "true_init = torch.tensor([[cases_init,0., 0.]])"
   ]
  },
  {
   "cell_type": "code",
   "execution_count": 14,
   "metadata": {},
   "outputs": [
    {
     "name": "stdout",
     "output_type": "stream",
     "text": [
      "10 0.0028751979116350412 [tensor(0.2888), tensor(0.0612), tensor(0.0612), tensor(0.2876)]\n",
      "20 0.001755142817273736 [tensor(0.2879), tensor(0.0621), tensor(0.0621), tensor(0.2858)]\n",
      "30 0.001195600489154458 [tensor(0.2873), tensor(0.0627), tensor(0.0627), tensor(0.2844)]\n",
      "40 0.0008665535715408623 [tensor(0.2868), tensor(0.0632), tensor(0.0632), tensor(0.2832)]\n",
      "50 0.0006535114953294396 [tensor(0.2864), tensor(0.0636), tensor(0.0636), tensor(0.2823)]\n",
      "60 0.0005065423320047557 [tensor(0.2860), tensor(0.0640), tensor(0.0640), tensor(0.2814)]\n",
      "70 0.00040049583185464144 [tensor(0.2857), tensor(0.0643), tensor(0.0643), tensor(0.2807)]\n",
      "80 0.00032138975802809 [tensor(0.2855), tensor(0.0646), tensor(0.0645), tensor(0.2800)]\n",
      "90 0.0002608609211165458 [tensor(0.2852), tensor(0.0648), tensor(0.0648), tensor(0.2794)]\n",
      "100 0.00021361459221225232 [tensor(0.2850), tensor(0.0650), tensor(0.0650), tensor(0.2788)]\n",
      "110 0.00017614371608942747 [tensor(0.2848), tensor(0.0652), tensor(0.0652), tensor(0.2783)]\n",
      "120 0.0001460464409319684 [tensor(0.2846), tensor(0.0654), tensor(0.0654), tensor(0.2779)]\n",
      "130 0.00012161301128799096 [tensor(0.2844), tensor(0.0656), tensor(0.0656), tensor(0.2774)]\n",
      "140 0.00010161189129576087 [tensor(0.2843), tensor(0.0657), tensor(0.0657), tensor(0.2770)]\n",
      "150 8.512711065122858e-05 [tensor(0.2841), tensor(0.0659), tensor(0.0659), tensor(0.2766)]\n",
      "160 7.146317511796951e-05 [tensor(0.2840), tensor(0.0660), tensor(0.0660), tensor(0.2763)]\n",
      "170 6.008890341036022e-05 [tensor(0.2838), tensor(0.0662), tensor(0.0661), tensor(0.2759)]\n",
      "180 5.058629540144466e-05 [tensor(0.2837), tensor(0.0663), tensor(0.0663), tensor(0.2756)]\n",
      "190 4.262733637006022e-05 [tensor(0.2836), tensor(0.0664), tensor(0.0664), tensor(0.2753)]\n",
      "200 3.594908775994554e-05 [tensor(0.2835), tensor(0.0665), tensor(0.0665), tensor(0.2751)]\n"
     ]
    }
   ],
   "source": [
    "optimizer = optim.RMSprop(ihd.parameters(), lr=1e-3)\n",
    "criterion = nn.MSELoss()\n",
    "best_loss, best_parms = ihd_fit.trainig(ihd, init=true_init, t=t, optimizer=optimizer,\n",
    "                                        criterion=criterion,niters=200,data=(data_cases,data_death),all_data=False)"
   ]
  },
  {
   "cell_type": "code",
   "execution_count": 15,
   "metadata": {},
   "outputs": [],
   "source": [
    "ihd_inf = ihd_fit.get_best_model_simple(best_parms)\n",
    "y_inf = ihd_fit.predic_ode(ihd_inf, true_init,t)"
   ]
  },
  {
   "cell_type": "code",
   "execution_count": 16,
   "metadata": {},
   "outputs": [
    {
     "data": {
      "text/plain": [
       "[<matplotlib.lines.Line2D at 0x7fdf631d5290>]"
      ]
     },
     "execution_count": 16,
     "metadata": {},
     "output_type": "execute_result"
    },
    {
     "data": {
      "image/png": "[encoded data removed]",
      "text/plain": [
       "<Figure size 432x288 with 1 Axes>"
      ]
     },
     "metadata": {
      "needs_background": "light"
     },
     "output_type": "display_data"
    }
   ],
   "source": [
    "plt.plot(y_inf[:,0], 'b')\n",
    "plt.plot(data_cases, 'b--')\n",
    "plt.plot(y_inf[:,1], 'g')\n",
    "plt.plot(y_inf[:,2], 'r')\n",
    "plt.plot(data_death, 'r--')"
   ]
  },
  {
   "cell_type": "markdown",
   "metadata": {},
   "source": [
    "Infected = Blue, Hospital = green, Deaths = red; dashed = true, plain = estimated\n",
    "\n",
    "We see that there is a problem with the model: the number os estimated individuals at the hospital is too low. This is confirmed by the data below."
   ]
  },
  {
   "cell_type": "code",
   "execution_count": 17,
   "metadata": {},
   "outputs": [],
   "source": [
    "date=\n",
    "data_hospital = pd.read_csv(\n",
    "    f\"https://static.data.gouv.fr/resources/donnees-hospitalieres-relatives-a-lepidemie-de-covid-19/{20200411}-190014/donnees-hospitalieres-covid19-{2020-04-11}-19h00.csv\", sep=\";\")"
   ]
  },
  {
   "cell_type": "code",
   "execution_count": 18,
   "metadata": {},
   "outputs": [],
   "source": [
    "df_hospital = data_hospital.loc[data_hospital['sexe']!=0].groupby(['jour']).agg({'hosp' : 'sum', 'rea' : 'sum', 'rad' : 'sum', 'dc':'sum'}).reset_index() "
   ]
  },
  {
   "cell_type": "code",
   "execution_count": 19,
   "metadata": {},
   "outputs": [],
   "source": [
    "hosiptal_fr =list(df_hospital['hosp'])/fr_pop*scale"
   ]
  },
  {
   "cell_type": "code",
   "execution_count": 20,
   "metadata": {},
   "outputs": [
    {
     "data": {
      "text/plain": [
       "[<matplotlib.lines.Line2D at 0x7fdf636b54d0>]"
      ]
     },
     "execution_count": 20,
     "metadata": {},
     "output_type": "execute_result"
    },
    {
     "data": {
      "image/png": "[encoded data removed]",
      "text/plain": [
       "<Figure size 432x288 with 1 Axes>"
      ]
     },
     "metadata": {
      "needs_background": "light"
     },
     "output_type": "display_data"
    }
   ],
   "source": [
    "plt.plot(y_inf[-19:,0], 'b')\n",
    "plt.plot(data_cases[-19:], 'b--')\n",
    "plt.plot(y_inf[-19:,1], 'g')\n",
    "plt.plot(hosiptal_fr, 'g--')\n",
    "plt.plot(y_inf[-19:,2], 'r')\n",
    "plt.plot(data_death[-19:], 'r--')"
   ]
  },
  {
   "cell_type": "markdown",
   "metadata": {},
   "source": [
    "Infected = Blue, Hospital = green, Deaths = red; dashed = true, plain = estimated\n",
    "\n",
    "We see that the number of infected is largely underestimated as it is below the number of individuals in hospital. The number of tests is probably not sufficient to get an accurate estimate of the infected individuals.\n",
    "\n",
    "With our model, we can try to infer this number of infected individual from the number of individuals in hospital. TBD."
   ]
  },
  {
   "cell_type": "markdown",
   "metadata": {},
   "source": [
    "## c. case of South Korea"
   ]
  },
  {
   "cell_type": "code",
   "execution_count": 168,
   "metadata": {},
   "outputs": [],
   "source": [
    "df_sk = df[df.country == 'South Korea']\n",
    "sk_pop = populations_all.loc['South Korea']['Value']"
   ]
  },
  {
   "cell_type": "code",
   "execution_count": 187,
   "metadata": {},
   "outputs": [],
   "source": [
    "death, new_cases = covid_data.create_death_cases(df_sk,scale,sk_pop)\n",
    "delta = 10\n",
    "init = np.nonzero(new_cases)[0][0]+delta\n",
    "t, data_death, data_cases = covid_data.make_data(death,new_cases,init,delta)"
   ]
  },
  {
   "cell_type": "code",
   "execution_count": 202,
   "metadata": {},
   "outputs": [],
   "source": [
    "parms_fit = torch.tensor([0.2,-0.05,0.05,0.05,0.2])\n",
    "time_fit = torch.tensor([40.])\n",
    "ihd_time = ihd_fit.IHD_fit_time(parms_fit,time_fit)\n",
    "true_init = torch.tensor([[cases_init,0., 0.]])"
   ]
  },
  {
   "cell_type": "code",
   "execution_count": 203,
   "metadata": {},
   "outputs": [],
   "source": [
    "optimizer_time = optim.RMSprop([{'params': [ihd_time.b1, ihd_time.b2, ihd_time.g, ihd_time.nu, ihd_time.l]},\n",
    "                                {'params': ihd_time.time, 'lr' : 1.}], lr=1e-3)\n",
    "criterion = nn.MSELoss()"
   ]
  },
  {
   "cell_type": "code",
   "execution_count": 204,
   "metadata": {},
   "outputs": [
    {
     "name": "stdout",
     "output_type": "stream",
     "text": [
      "10 3.443796231294982e-05 [tensor(0.2112), tensor(-0.0382), tensor(0.0388), tensor(0.0387), tensor(0.1783), tensor([48.4041])]\n",
      "20 2.4009832486626692e-05 [tensor(0.2128), tensor(-0.0366), tensor(0.0372), tensor(0.0371), tensor(0.1696), tensor([50.2911])]\n",
      "30 2.2401020032702945e-05 [tensor(0.2134), tensor(-0.0374), tensor(0.0366), tensor(0.0364), tensor(0.1568), tensor([50.7088])]\n",
      "40 2.1887839466216974e-05 [tensor(0.2136), tensor(-0.0391), tensor(0.0365), tensor(0.0362), tensor(0.1428), tensor([50.6154])]\n",
      "50 2.136257717211265e-05 [tensor(0.2137), tensor(-0.0410), tensor(0.0363), tensor(0.0359), tensor(0.1287), tensor([50.4581])]\n",
      "60 2.080521335301455e-05 [tensor(0.2139), tensor(-0.0429), tensor(0.0362), tensor(0.0357), tensor(0.1146), tensor([50.2971])]\n",
      "70 2.0215056792949326e-05 [tensor(0.2141), tensor(-0.0450), tensor(0.0360), tensor(0.0354), tensor(0.1006), tensor([50.1381])]\n",
      "80 1.9592485841712914e-05 [tensor(0.2142), tensor(-0.0473), tensor(0.0358), tensor(0.0352), tensor(0.0868), tensor([49.9817])]\n",
      "90 1.8939301298814826e-05 [tensor(0.2145), tensor(-0.0496), tensor(0.0356), tensor(0.0349), tensor(0.0733), tensor([49.8282])]\n",
      "100 1.825914478104096e-05 [tensor(0.2147), tensor(-0.0521), tensor(0.0354), tensor(0.0347), tensor(0.0603), tensor([49.6775])]\n",
      "110 1.7557746105012484e-05 [tensor(0.2149), tensor(-0.0548), tensor(0.0352), tensor(0.0344), tensor(0.0482), tensor([49.5293])]\n",
      "120 1.6842293916852213e-05 [tensor(0.2152), tensor(-0.0575), tensor(0.0349), tensor(0.0341), tensor(0.0373), tensor([49.3831])]\n",
      "130 1.6119211068144068e-05 [tensor(0.2154), tensor(-0.0605), tensor(0.0347), tensor(0.0338), tensor(0.0279), tensor([49.2388])]\n",
      "140 1.539105323900003e-05 [tensor(0.2157), tensor(-0.0636), tensor(0.0344), tensor(0.0335), tensor(0.0205), tensor([49.0961])]\n",
      "150 1.4654793631052598e-05 [tensor(0.2160), tensor(-0.0668), tensor(0.0341), tensor(0.0332), tensor(0.0151), tensor([48.9550])]\n",
      "160 1.3904027582611889e-05 [tensor(0.2163), tensor(-0.0702), tensor(0.0338), tensor(0.0329), tensor(0.0116), tensor([48.8157])]\n",
      "170 1.3133546417520847e-05 [tensor(0.2166), tensor(-0.0737), tensor(0.0335), tensor(0.0326), tensor(0.0095), tensor([48.6781])]\n",
      "180 1.234151204698719e-05 [tensor(0.2169), tensor(-0.0774), tensor(0.0332), tensor(0.0323), tensor(0.0084), tensor([48.5418])]\n",
      "190 1.1529450603120495e-05 [tensor(0.2173), tensor(-0.0812), tensor(0.0328), tensor(0.0319), tensor(0.0078), tensor([48.4058])]\n",
      "200 1.0700927305151708e-05 [tensor(0.2176), tensor(-0.0851), tensor(0.0325), tensor(0.0316), tensor(0.0074), tensor([48.2696])]\n",
      "210 9.860758837021422e-06 [tensor(0.2180), tensor(-0.0891), tensor(0.0321), tensor(0.0312), tensor(0.0072), tensor([48.1323])]\n",
      "220 9.01479143067263e-06 [tensor(0.2184), tensor(-0.0932), tensor(0.0317), tensor(0.0308), tensor(0.0070), tensor([47.9934])]\n",
      "230 8.169953616743442e-06 [tensor(0.2188), tensor(-0.0974), tensor(0.0313), tensor(0.0304), tensor(0.0068), tensor([47.8528])]\n",
      "240 7.334105703193927e-06 [tensor(0.2192), tensor(-0.1016), tensor(0.0309), tensor(0.0300), tensor(0.0067), tensor([47.7105])]\n",
      "250 6.51569826004561e-06 [tensor(0.2196), tensor(-0.1059), tensor(0.0305), tensor(0.0296), tensor(0.0065), tensor([47.5667])]\n",
      "260 5.7237539294874296e-06 [tensor(0.2200), tensor(-0.1102), tensor(0.0301), tensor(0.0292), tensor(0.0063), tensor([47.4218])]\n",
      "270 4.967377208231483e-06 [tensor(0.2204), tensor(-0.1145), tensor(0.0297), tensor(0.0288), tensor(0.0062), tensor([47.2769])]\n",
      "280 4.255671228747815e-06 [tensor(0.2208), tensor(-0.1188), tensor(0.0293), tensor(0.0284), tensor(0.0061), tensor([47.1498])]\n",
      "290 1.2120091923861764e-05 [tensor(0.2215), tensor(-0.1220), tensor(0.0286), tensor(0.0277), tensor(0.0061), tensor([48.1193])]\n",
      "300 7.027291303529637e-06 [tensor(0.2217), tensor(-0.1249), tensor(0.0284), tensor(0.0275), tensor(0.0060), tensor([47.6387])]\n",
      "310 5.352835614758078e-06 [tensor(0.2220), tensor(-0.1280), tensor(0.0281), tensor(0.0272), tensor(0.0059), tensor([47.4383])]\n",
      "320 4.784034899785183e-06 [tensor(0.2223), tensor(-0.1310), tensor(0.0278), tensor(0.0269), tensor(0.0058), tensor([47.3064])]\n",
      "330 4.494253971643047e-06 [tensor(0.2226), tensor(-0.1337), tensor(0.0276), tensor(0.0266), tensor(0.0057), tensor([47.1964])]\n",
      "340 4.277550488041015e-06 [tensor(0.2228), tensor(-0.1363), tensor(0.0273), tensor(0.0263), tensor(0.0057), tensor([47.0953])]\n",
      "350 4.09630320064025e-06 [tensor(0.2231), tensor(-0.1387), tensor(0.0270), tensor(0.0261), tensor(0.0056), tensor([47.0015])]\n",
      "360 3.944173840864096e-06 [tensor(0.2233), tensor(-0.1408), tensor(0.0268), tensor(0.0259), tensor(0.0056), tensor([46.9152])]\n",
      "370 3.8167299862834625e-06 [tensor(0.2235), tensor(-0.1428), tensor(0.0266), tensor(0.0257), tensor(0.0055), tensor([46.8363])]\n",
      "380 3.7109625736775342e-06 [tensor(0.2237), tensor(-0.1447), tensor(0.0264), tensor(0.0255), tensor(0.0055), tensor([46.7646])]\n",
      "390 3.6228684621164575e-06 [tensor(0.2238), tensor(-0.1463), tensor(0.0263), tensor(0.0253), tensor(0.0055), tensor([46.6999])]\n",
      "400 3.549551138348761e-06 [tensor(0.2240), tensor(-0.1478), tensor(0.0261), tensor(0.0252), tensor(0.0055), tensor([46.6418])]\n",
      "410 3.48911521541595e-06 [tensor(0.2241), tensor(-0.1492), tensor(0.0260), tensor(0.0250), tensor(0.0055), tensor([46.5898])]\n",
      "420 3.4390061500744196e-06 [tensor(0.2243), tensor(-0.1504), tensor(0.0259), tensor(0.0249), tensor(0.0054), tensor([46.5434])]\n",
      "430 3.39719758812862e-06 [tensor(0.2244), tensor(-0.1516), tensor(0.0257), tensor(0.0248), tensor(0.0054), tensor([46.5023])]\n",
      "440 3.3626879485382233e-06 [tensor(0.2245), tensor(-0.1526), tensor(0.0256), tensor(0.0247), tensor(0.0054), tensor([46.4660])]\n",
      "450 3.333965423735208e-06 [tensor(0.2246), tensor(-0.1535), tensor(0.0256), tensor(0.0246), tensor(0.0054), tensor([46.4339])]\n",
      "460 3.3096778224717127e-06 [tensor(0.2246), tensor(-0.1543), tensor(0.0255), tensor(0.0245), tensor(0.0054), tensor([46.4058])]\n",
      "470 3.2895711683522677e-06 [tensor(0.2247), tensor(-0.1550), tensor(0.0254), tensor(0.0245), tensor(0.0054), tensor([46.3811])]\n",
      "480 3.2724346965551376e-06 [tensor(0.2248), tensor(-0.1556), tensor(0.0253), tensor(0.0244), tensor(0.0054), tensor([46.3594])]\n",
      "490 3.2580935567239067e-06 [tensor(0.2248), tensor(-0.1562), tensor(0.0253), tensor(0.0243), tensor(0.0054), tensor([46.3405])]\n",
      "500 3.2457628549309447e-06 [tensor(0.2249), tensor(-0.1567), tensor(0.0252), tensor(0.0243), tensor(0.0054), tensor([46.3240])]\n"
     ]
    }
   ],
   "source": [
    "best_loss, best_parms = ihd_fit.trainig(ihd_time, init=true_init, t=t, optimizer=optimizer_time,\n",
    "                                        criterion=criterion,niters=500,data=(data_cases,data_death),all_data=False)"
   ]
  },
  {
   "cell_type": "code",
   "execution_count": 207,
   "metadata": {},
   "outputs": [],
   "source": [
    "optimizer_time = optim.RMSprop([{'params': [ihd_time.b1, ihd_time.b2, ihd_time.g, ihd_time.nu, ihd_time.l]},\n",
    "                                {'params': ihd_time.time, 'lr' : .1}], lr=1e-4)\n",
    "criterion = nn.MSELoss()"
   ]
  },
  {
   "cell_type": "code",
   "execution_count": 208,
   "metadata": {},
   "outputs": [
    {
     "name": "stdout",
     "output_type": "stream",
     "text": [
      "10 2.3596980724960304e-07 [tensor(0.2245), tensor(-0.1576), tensor(0.0256), tensor(0.0246), tensor(0.0051), tensor([45.9100])]\n",
      "20 2.2119274944998324e-07 [tensor(0.2246), tensor(-0.1581), tensor(0.0255), tensor(0.0245), tensor(0.0050), tensor([45.8660])]\n",
      "30 2.0876670703273703e-07 [tensor(0.2247), tensor(-0.1586), tensor(0.0254), tensor(0.0245), tensor(0.0050), tensor([45.8271])]\n",
      "40 1.983936499527772e-07 [tensor(0.2247), tensor(-0.1590), tensor(0.0254), tensor(0.0244), tensor(0.0050), tensor([45.7924])]\n",
      "50 1.8981343430368725e-07 [tensor(0.2248), tensor(-0.1594), tensor(0.0253), tensor(0.0244), tensor(0.0050), tensor([45.7617])]\n",
      "60 1.8278429081419745e-07 [tensor(0.2249), tensor(-0.1598), tensor(0.0253), tensor(0.0243), tensor(0.0050), tensor([45.7347])]\n",
      "70 1.7708440225305822e-07 [tensor(0.2249), tensor(-0.1602), tensor(0.0252), tensor(0.0243), tensor(0.0050), tensor([45.7112])]\n",
      "80 1.7251257133921172e-07 [tensor(0.2249), tensor(-0.1605), tensor(0.0252), tensor(0.0242), tensor(0.0050), tensor([45.6908])]\n",
      "90 1.6892836640636233e-07 [tensor(0.2250), tensor(-0.1608), tensor(0.0251), tensor(0.0242), tensor(0.0050), tensor([45.6709])]\n",
      "100 2.1719068854508805e-07 [tensor(0.2249), tensor(-0.1612), tensor(0.0252), tensor(0.0243), tensor(0.0049), tensor([45.5497])]\n",
      "110 1.8642947452462977e-07 [tensor(0.2250), tensor(-0.1613), tensor(0.0251), tensor(0.0242), tensor(0.0050), tensor([45.6156])]\n",
      "120 1.6332992913703492e-07 [tensor(0.2250), tensor(-0.1615), tensor(0.0251), tensor(0.0241), tensor(0.0050), tensor([45.6422])]\n",
      "130 1.6203574659812148e-07 [tensor(0.2251), tensor(-0.1616), tensor(0.0251), tensor(0.0241), tensor(0.0050), tensor([45.6382])]\n",
      "140 1.6111651746086864e-07 [tensor(0.2251), tensor(-0.1618), tensor(0.0250), tensor(0.0241), tensor(0.0050), tensor([45.6325])]\n",
      "150 1.6040876005263272e-07 [tensor(0.2251), tensor(-0.1619), tensor(0.0250), tensor(0.0241), tensor(0.0050), tensor([45.6260])]\n",
      "160 1.610476942914829e-07 [tensor(0.2251), tensor(-0.1621), tensor(0.0250), tensor(0.0241), tensor(0.0050), tensor([45.6096])]\n",
      "170 2.7797193524747854e-07 [tensor(0.2250), tensor(-0.1623), tensor(0.0251), tensor(0.0242), tensor(0.0048), tensor([45.4834])]\n",
      "180 1.772104099018179e-07 [tensor(0.2251), tensor(-0.1623), tensor(0.0250), tensor(0.0241), tensor(0.0049), tensor([45.5829])]\n",
      "190 1.597161514155232e-07 [tensor(0.2251), tensor(-0.1623), tensor(0.0250), tensor(0.0240), tensor(0.0050), tensor([45.6090])]\n",
      "200 1.5892916849225003e-07 [tensor(0.2251), tensor(-0.1624), tensor(0.0250), tensor(0.0240), tensor(0.0050), tensor([45.6099])]\n"
     ]
    }
   ],
   "source": [
    "best_loss, best_parms = ihd_fit.trainig(ihd_time, init=true_init, t=t, optimizer=optimizer_time,\n",
    "                                        criterion=criterion,niters=200,data=(data_cases,data_death),all_data=False)"
   ]
  },
  {
   "cell_type": "code",
   "execution_count": 209,
   "metadata": {},
   "outputs": [],
   "source": [
    "ihd_inf = ihd_fit.get_best_model(best_parms)\n",
    "y_inf = ihd_fit.predic_ode(ihd_inf, true_init,t)"
   ]
  },
  {
   "cell_type": "code",
   "execution_count": 210,
   "metadata": {},
   "outputs": [
    {
     "data": {
      "text/plain": [
       "[<matplotlib.lines.Line2D at 0x7fa4ac9ce550>]"
      ]
     },
     "execution_count": 210,
     "metadata": {},
     "output_type": "execute_result"
    },
    {
     "data": {
      "image/png": "[encoded data removed]",
      "text/plain": [
       "<Figure size 432x288 with 1 Axes>"
      ]
     },
     "metadata": {
      "needs_background": "light"
     },
     "output_type": "display_data"
    }
   ],
   "source": [
    "plt.plot(y_inf[:,0], 'b')\n",
    "plt.plot(data_cases, 'b--')\n",
    "plt.plot(y_inf[:,1], 'g')\n",
    "plt.plot(y_inf[:,2], 'r')\n",
    "plt.plot(data_death, 'r--')"
   ]
  },
  {
   "cell_type": "markdown",
   "metadata": {},
   "source": [
    "Infected = Blue, Hospital = green, Deaths = red; dashed = true, plain = estimated"
   ]
  },
  {
   "cell_type": "code",
   "execution_count": null,
   "metadata": {},
   "outputs": [],
   "source": []
  }
 ],
 "metadata": {
  "kernelspec": {
   "display_name": "Python 3.7 (Covid-19)",
   "language": "python",
   "name": "covid-19"
  },
  "language_info": {
   "codemirror_mode": {
    "name": "ipython",
    "version": 3
   },
   "file_extension": ".py",
   "mimetype": "text/x-python",
   "name": "python",
   "nbconvert_exporter": "python",
   "pygments_lexer": "ipython3",
   "version": "3.7.7"
  },
  "toc": {
   "base_numbering": 1,
   "nav_menu": {},
   "number_sections": true,
   "sideBar": true,
   "skip_h1_title": false,
   "title_cell": "Table of Contents",
   "title_sidebar": "Contents",
   "toc_cell": false,
   "toc_position": {},
   "toc_section_display": true,
   "toc_window_display": false
  }
 },
 "nbformat": 4,
 "nbformat_minor": 2
}
